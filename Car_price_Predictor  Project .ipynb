{
  "cells": [
    {
      "cell_type": "markdown",
      "id": "1f45068e",
      "metadata": {
        "id": "1f45068e"
      },
      "source": [
        "# 🚗 Car Price Prediction Project"
      ]
    },
    {
      "cell_type": "markdown",
      "id": "ac5b95ff",
      "metadata": {
        "id": "ac5b95ff"
      },
      "source": [
        "### Import libraries"
      ]
    },
    {
      "cell_type": "code",
      "execution_count": 1,
      "id": "Jr0OHWekv-e_",
      "metadata": {
        "id": "Jr0OHWekv-e_"
      },
      "outputs": [],
      "source": [
        "\n",
        "from sklearn.compose import ColumnTransformer\n",
        "from sklearn.compose import make_column_transformer\n",
        "from sklearn.linear_model import LinearRegression\n",
        "from sklearn.metrics import mean_squared_error, r2_score,mean_absolute_error\n",
        "from sklearn.metrics import r2_score\n",
        "from sklearn.model_selection import train_test_split\n",
        "from sklearn.pipeline import Pipeline\n",
        "from sklearn.pipeline import make_pipeline\n",
        "from sklearn.preprocessing import OneHotEncoder\n",
        "from sklearn.preprocessing import StandardScaler, OneHotEncoder\n",
        "import gradio as gr\n",
        "import matplotlib.pyplot as plt\n",
        "import numpy as np\n",
        "import pandas as pd\n",
        "import seaborn as sns\n",
        "import warnings"
      ]
    },
    {
      "cell_type": "code",
      "execution_count": 2,
      "id": "1MsKMHriwE52",
      "metadata": {
        "id": "1MsKMHriwE52"
      },
      "outputs": [],
      "source": [
        "warnings.filterwarnings('ignore')"
      ]
    },
    {
      "cell_type": "markdown",
      "id": "dc34ae3c",
      "metadata": {
        "id": "dc34ae3c"
      },
      "source": [
        "### Load Dataset"
      ]
    },
    {
      "cell_type": "code",
      "execution_count": 3,
      "id": "74421011",
      "metadata": {
        "colab": {
          "base_uri": "https://localhost:8080/",
          "height": 73
        },
        "id": "74421011",
        "outputId": "6a4e46b9-e867-4c9a-9f77-d3dd1962ee5d"
      },
      "outputs": [
        {
          "output_type": "display_data",
          "data": {
            "text/plain": [
              "<IPython.core.display.HTML object>"
            ],
            "text/html": [
              "\n",
              "     <input type=\"file\" id=\"files-cbcf3dc8-5428-4732-9edf-c740403aea20\" name=\"files[]\" multiple disabled\n",
              "        style=\"border:none\" />\n",
              "     <output id=\"result-cbcf3dc8-5428-4732-9edf-c740403aea20\">\n",
              "      Upload widget is only available when the cell has been executed in the\n",
              "      current browser session. Please rerun this cell to enable.\n",
              "      </output>\n",
              "      <script>// Copyright 2017 Google LLC\n",
              "//\n",
              "// Licensed under the Apache License, Version 2.0 (the \"License\");\n",
              "// you may not use this file except in compliance with the License.\n",
              "// You may obtain a copy of the License at\n",
              "//\n",
              "//      http://www.apache.org/licenses/LICENSE-2.0\n",
              "//\n",
              "// Unless required by applicable law or agreed to in writing, software\n",
              "// distributed under the License is distributed on an \"AS IS\" BASIS,\n",
              "// WITHOUT WARRANTIES OR CONDITIONS OF ANY KIND, either express or implied.\n",
              "// See the License for the specific language governing permissions and\n",
              "// limitations under the License.\n",
              "\n",
              "/**\n",
              " * @fileoverview Helpers for google.colab Python module.\n",
              " */\n",
              "(function(scope) {\n",
              "function span(text, styleAttributes = {}) {\n",
              "  const element = document.createElement('span');\n",
              "  element.textContent = text;\n",
              "  for (const key of Object.keys(styleAttributes)) {\n",
              "    element.style[key] = styleAttributes[key];\n",
              "  }\n",
              "  return element;\n",
              "}\n",
              "\n",
              "// Max number of bytes which will be uploaded at a time.\n",
              "const MAX_PAYLOAD_SIZE = 100 * 1024;\n",
              "\n",
              "function _uploadFiles(inputId, outputId) {\n",
              "  const steps = uploadFilesStep(inputId, outputId);\n",
              "  const outputElement = document.getElementById(outputId);\n",
              "  // Cache steps on the outputElement to make it available for the next call\n",
              "  // to uploadFilesContinue from Python.\n",
              "  outputElement.steps = steps;\n",
              "\n",
              "  return _uploadFilesContinue(outputId);\n",
              "}\n",
              "\n",
              "// This is roughly an async generator (not supported in the browser yet),\n",
              "// where there are multiple asynchronous steps and the Python side is going\n",
              "// to poll for completion of each step.\n",
              "// This uses a Promise to block the python side on completion of each step,\n",
              "// then passes the result of the previous step as the input to the next step.\n",
              "function _uploadFilesContinue(outputId) {\n",
              "  const outputElement = document.getElementById(outputId);\n",
              "  const steps = outputElement.steps;\n",
              "\n",
              "  const next = steps.next(outputElement.lastPromiseValue);\n",
              "  return Promise.resolve(next.value.promise).then((value) => {\n",
              "    // Cache the last promise value to make it available to the next\n",
              "    // step of the generator.\n",
              "    outputElement.lastPromiseValue = value;\n",
              "    return next.value.response;\n",
              "  });\n",
              "}\n",
              "\n",
              "/**\n",
              " * Generator function which is called between each async step of the upload\n",
              " * process.\n",
              " * @param {string} inputId Element ID of the input file picker element.\n",
              " * @param {string} outputId Element ID of the output display.\n",
              " * @return {!Iterable<!Object>} Iterable of next steps.\n",
              " */\n",
              "function* uploadFilesStep(inputId, outputId) {\n",
              "  const inputElement = document.getElementById(inputId);\n",
              "  inputElement.disabled = false;\n",
              "\n",
              "  const outputElement = document.getElementById(outputId);\n",
              "  outputElement.innerHTML = '';\n",
              "\n",
              "  const pickedPromise = new Promise((resolve) => {\n",
              "    inputElement.addEventListener('change', (e) => {\n",
              "      resolve(e.target.files);\n",
              "    });\n",
              "  });\n",
              "\n",
              "  const cancel = document.createElement('button');\n",
              "  inputElement.parentElement.appendChild(cancel);\n",
              "  cancel.textContent = 'Cancel upload';\n",
              "  const cancelPromise = new Promise((resolve) => {\n",
              "    cancel.onclick = () => {\n",
              "      resolve(null);\n",
              "    };\n",
              "  });\n",
              "\n",
              "  // Wait for the user to pick the files.\n",
              "  const files = yield {\n",
              "    promise: Promise.race([pickedPromise, cancelPromise]),\n",
              "    response: {\n",
              "      action: 'starting',\n",
              "    }\n",
              "  };\n",
              "\n",
              "  cancel.remove();\n",
              "\n",
              "  // Disable the input element since further picks are not allowed.\n",
              "  inputElement.disabled = true;\n",
              "\n",
              "  if (!files) {\n",
              "    return {\n",
              "      response: {\n",
              "        action: 'complete',\n",
              "      }\n",
              "    };\n",
              "  }\n",
              "\n",
              "  for (const file of files) {\n",
              "    const li = document.createElement('li');\n",
              "    li.append(span(file.name, {fontWeight: 'bold'}));\n",
              "    li.append(span(\n",
              "        `(${file.type || 'n/a'}) - ${file.size} bytes, ` +\n",
              "        `last modified: ${\n",
              "            file.lastModifiedDate ? file.lastModifiedDate.toLocaleDateString() :\n",
              "                                    'n/a'} - `));\n",
              "    const percent = span('0% done');\n",
              "    li.appendChild(percent);\n",
              "\n",
              "    outputElement.appendChild(li);\n",
              "\n",
              "    const fileDataPromise = new Promise((resolve) => {\n",
              "      const reader = new FileReader();\n",
              "      reader.onload = (e) => {\n",
              "        resolve(e.target.result);\n",
              "      };\n",
              "      reader.readAsArrayBuffer(file);\n",
              "    });\n",
              "    // Wait for the data to be ready.\n",
              "    let fileData = yield {\n",
              "      promise: fileDataPromise,\n",
              "      response: {\n",
              "        action: 'continue',\n",
              "      }\n",
              "    };\n",
              "\n",
              "    // Use a chunked sending to avoid message size limits. See b/62115660.\n",
              "    let position = 0;\n",
              "    do {\n",
              "      const length = Math.min(fileData.byteLength - position, MAX_PAYLOAD_SIZE);\n",
              "      const chunk = new Uint8Array(fileData, position, length);\n",
              "      position += length;\n",
              "\n",
              "      const base64 = btoa(String.fromCharCode.apply(null, chunk));\n",
              "      yield {\n",
              "        response: {\n",
              "          action: 'append',\n",
              "          file: file.name,\n",
              "          data: base64,\n",
              "        },\n",
              "      };\n",
              "\n",
              "      let percentDone = fileData.byteLength === 0 ?\n",
              "          100 :\n",
              "          Math.round((position / fileData.byteLength) * 100);\n",
              "      percent.textContent = `${percentDone}% done`;\n",
              "\n",
              "    } while (position < fileData.byteLength);\n",
              "  }\n",
              "\n",
              "  // All done.\n",
              "  yield {\n",
              "    response: {\n",
              "      action: 'complete',\n",
              "    }\n",
              "  };\n",
              "}\n",
              "\n",
              "scope.google = scope.google || {};\n",
              "scope.google.colab = scope.google.colab || {};\n",
              "scope.google.colab._files = {\n",
              "  _uploadFiles,\n",
              "  _uploadFilesContinue,\n",
              "};\n",
              "})(self);\n",
              "</script> "
            ]
          },
          "metadata": {}
        },
        {
          "output_type": "stream",
          "name": "stdout",
          "text": [
            "Saving quikr_car.csv to quikr_car.csv\n"
          ]
        }
      ],
      "source": [
        "from google.colab import files\n",
        "uploaded = files.upload()\n"
      ]
    },
    {
      "cell_type": "markdown",
      "id": "LtJr0Z2mkj1q",
      "metadata": {
        "id": "LtJr0Z2mkj1q"
      },
      "source": [
        "# New section"
      ]
    },
    {
      "cell_type": "code",
      "execution_count": null,
      "id": "eede1204",
      "metadata": {
        "colab": {
          "background_save": true
        },
        "id": "eede1204"
      },
      "outputs": [],
      "source": [
        "car=pd.read_csv('quikr_car.csv')"
      ]
    },
    {
      "cell_type": "code",
      "execution_count": null,
      "id": "6e0c0019",
      "metadata": {
        "colab": {
          "background_save": true
        },
        "id": "6e0c0019"
      },
      "outputs": [],
      "source": [
        "car.head()"
      ]
    },
    {
      "cell_type": "markdown",
      "id": "91f2534a",
      "metadata": {
        "id": "91f2534a"
      },
      "source": [
        "### Initial Data Exploration"
      ]
    },
    {
      "cell_type": "code",
      "execution_count": null,
      "id": "7c6a53ea",
      "metadata": {
        "colab": {
          "background_save": true
        },
        "id": "7c6a53ea"
      },
      "outputs": [],
      "source": [
        "car.shape"
      ]
    },
    {
      "cell_type": "code",
      "execution_count": null,
      "id": "9030676b",
      "metadata": {
        "colab": {
          "background_save": true
        },
        "id": "9030676b"
      },
      "outputs": [],
      "source": [
        "car.info()"
      ]
    },
    {
      "cell_type": "markdown",
      "id": "34d2333b",
      "metadata": {
        "id": "34d2333b"
      },
      "source": [
        "#### Unique Values Check"
      ]
    },
    {
      "cell_type": "code",
      "execution_count": null,
      "id": "7dd49ce4",
      "metadata": {
        "colab": {
          "background_save": true
        },
        "id": "7dd49ce4"
      },
      "outputs": [],
      "source": [
        "car['year'].unique()"
      ]
    },
    {
      "cell_type": "code",
      "execution_count": null,
      "id": "61765579",
      "metadata": {
        "colab": {
          "background_save": true
        },
        "id": "61765579"
      },
      "outputs": [],
      "source": [
        "car['Price'].unique()"
      ]
    },
    {
      "cell_type": "code",
      "execution_count": null,
      "id": "a274a6ad",
      "metadata": {
        "colab": {
          "background_save": true
        },
        "id": "a274a6ad"
      },
      "outputs": [],
      "source": [
        "car['kms_driven'].unique()"
      ]
    },
    {
      "cell_type": "code",
      "execution_count": null,
      "id": "dfaf048d",
      "metadata": {
        "colab": {
          "background_save": true
        },
        "id": "dfaf048d"
      },
      "outputs": [],
      "source": [
        "car['fuel_type'].unique()"
      ]
    },
    {
      "cell_type": "markdown",
      "id": "f0294b19",
      "metadata": {
        "id": "f0294b19"
      },
      "source": [
        "## Quality\n",
        "* year has many non-year values\n",
        "* year object to int\n",
        "* price has Ask For Price\n",
        "* Price object to int\n",
        "* kms_driven has kms with integers\n",
        "* kms_driven object to int\n",
        "* kms_driven has nan values\n",
        "* fuel-type has nan values\n",
        "* keep first 3 words of name"
      ]
    },
    {
      "cell_type": "markdown",
      "id": "92188363",
      "metadata": {
        "id": "92188363"
      },
      "source": [
        "## Data Cleaning"
      ]
    },
    {
      "cell_type": "code",
      "execution_count": null,
      "id": "507b8485",
      "metadata": {
        "colab": {
          "background_save": true
        },
        "id": "507b8485"
      },
      "outputs": [],
      "source": [
        "backup=car.copy()"
      ]
    },
    {
      "cell_type": "markdown",
      "id": "cb3f93d8",
      "metadata": {
        "id": "cb3f93d8"
      },
      "source": [
        "#### Clean 'year' Column"
      ]
    },
    {
      "cell_type": "code",
      "execution_count": null,
      "id": "732fb7fb",
      "metadata": {
        "colab": {
          "background_save": true
        },
        "id": "732fb7fb"
      },
      "outputs": [],
      "source": [
        "car =car[car['year'].str.isnumeric()]"
      ]
    },
    {
      "cell_type": "code",
      "execution_count": null,
      "id": "11695962",
      "metadata": {
        "colab": {
          "background_save": true
        },
        "id": "11695962"
      },
      "outputs": [],
      "source": [
        "car['year']=car['year'].astype(np.int32)"
      ]
    },
    {
      "cell_type": "markdown",
      "id": "46c66808",
      "metadata": {
        "id": "46c66808"
      },
      "source": [
        "#### Clean 'Price' Column"
      ]
    },
    {
      "cell_type": "code",
      "execution_count": null,
      "id": "8d8b996b",
      "metadata": {
        "colab": {
          "background_save": true
        },
        "id": "8d8b996b"
      },
      "outputs": [],
      "source": [
        "car=car[car['Price']!=\"Ask For Price\"]"
      ]
    },
    {
      "cell_type": "code",
      "execution_count": null,
      "id": "a585e267",
      "metadata": {
        "colab": {
          "background_save": true
        },
        "id": "a585e267"
      },
      "outputs": [],
      "source": [
        "car['Price'] = car['Price'].astype(str)\n",
        "car['Price']=car['Price'].str.replace(',', '', regex=True).astype(np.int32)\n"
      ]
    },
    {
      "cell_type": "markdown",
      "id": "a1407f34",
      "metadata": {
        "id": "a1407f34"
      },
      "source": [
        "#### Clean 'kms_driven' Column"
      ]
    },
    {
      "cell_type": "code",
      "execution_count": null,
      "id": "b8425b13",
      "metadata": {
        "colab": {
          "background_save": true
        },
        "id": "b8425b13"
      },
      "outputs": [],
      "source": [
        "car['kms_driven']=car['kms_driven'].str.split(' ').str.get(0).str.replace(',','')"
      ]
    },
    {
      "cell_type": "code",
      "execution_count": null,
      "id": "2bfcf3b6",
      "metadata": {
        "colab": {
          "background_save": true
        },
        "id": "2bfcf3b6"
      },
      "outputs": [],
      "source": [
        "car=car[car['kms_driven'].str.isnumeric()]"
      ]
    },
    {
      "cell_type": "code",
      "execution_count": null,
      "id": "4d984842",
      "metadata": {
        "colab": {
          "background_save": true
        },
        "id": "4d984842"
      },
      "outputs": [],
      "source": [
        "car['kms_driven']=car['kms_driven'].astype(np.int32)"
      ]
    },
    {
      "cell_type": "code",
      "execution_count": null,
      "id": "ea09ebf2",
      "metadata": {
        "colab": {
          "background_save": true
        },
        "id": "ea09ebf2"
      },
      "outputs": [],
      "source": [
        "car.info()"
      ]
    },
    {
      "cell_type": "markdown",
      "id": "9523d5d4",
      "metadata": {
        "id": "9523d5d4"
      },
      "source": [
        "#### Remove Null Fuel Types"
      ]
    },
    {
      "cell_type": "code",
      "execution_count": null,
      "id": "e53a64d1",
      "metadata": {
        "colab": {
          "background_save": true
        },
        "id": "e53a64d1"
      },
      "outputs": [],
      "source": [
        "car=car[~car['fuel_type'].isna()]"
      ]
    },
    {
      "cell_type": "markdown",
      "id": "472bd2fa",
      "metadata": {
        "id": "472bd2fa"
      },
      "source": [
        "#### Normalize 'name' Column"
      ]
    },
    {
      "cell_type": "code",
      "execution_count": null,
      "id": "7cfd3975",
      "metadata": {
        "colab": {
          "background_save": true
        },
        "id": "7cfd3975"
      },
      "outputs": [],
      "source": [
        "car['name']= car['name'].apply(\n",
        "    lambda x: ' '.join(x[:3]) if isinstance(x, list)\n",
        "    else ' '.join(str(x).split()[:3])\n",
        ")\n"
      ]
    },
    {
      "cell_type": "code",
      "execution_count": null,
      "id": "7f87d971",
      "metadata": {
        "colab": {
          "background_save": true
        },
        "id": "7f87d971"
      },
      "outputs": [],
      "source": [
        "car=car.reset_index(drop=True)"
      ]
    },
    {
      "cell_type": "code",
      "execution_count": null,
      "id": "b720beda",
      "metadata": {
        "colab": {
          "background_save": true
        },
        "id": "b720beda"
      },
      "outputs": [],
      "source": [
        "car.describe()"
      ]
    },
    {
      "cell_type": "markdown",
      "id": "d8e6ff9b",
      "metadata": {
        "id": "d8e6ff9b"
      },
      "source": [
        "#### Filter Out Extreme Prices"
      ]
    },
    {
      "cell_type": "code",
      "execution_count": null,
      "id": "a189c1fb",
      "metadata": {
        "colab": {
          "background_save": true
        },
        "id": "a189c1fb"
      },
      "outputs": [],
      "source": [
        "car=car[car['Price']<6e6].reset_index(drop=True)"
      ]
    },
    {
      "cell_type": "code",
      "execution_count": null,
      "id": "6c1a38df",
      "metadata": {
        "colab": {
          "background_save": true
        },
        "id": "6c1a38df"
      },
      "outputs": [],
      "source": [
        "car"
      ]
    },
    {
      "cell_type": "markdown",
      "id": "aea733bd",
      "metadata": {
        "id": "aea733bd"
      },
      "source": [
        "### Save Cleaned Data"
      ]
    },
    {
      "cell_type": "code",
      "execution_count": null,
      "id": "c754e050",
      "metadata": {
        "colab": {
          "background_save": true
        },
        "id": "c754e050"
      },
      "outputs": [],
      "source": [
        "car.to_csv(\"Cleaned Car.csv\",index=False)"
      ]
    },
    {
      "cell_type": "markdown",
      "id": "18936fed",
      "metadata": {
        "id": "18936fed"
      },
      "source": [
        "### Data Visualization"
      ]
    },
    {
      "cell_type": "code",
      "execution_count": null,
      "id": "4d435369",
      "metadata": {
        "colab": {
          "background_save": true
        },
        "id": "4d435369"
      },
      "outputs": [],
      "source": [
        "\n",
        "plt.figure(figsize=(10, 6))\n",
        "sns.histplot(car['Price'], kde=True, bins=40)\n",
        "plt.title('Distribution of Car Prices')\n",
        "plt.xlabel('Price (INR)')\n",
        "plt.ylabel('Count')\n",
        "plt.show()\n"
      ]
    },
    {
      "cell_type": "code",
      "execution_count": null,
      "id": "92657709",
      "metadata": {
        "colab": {
          "background_save": true
        },
        "id": "92657709"
      },
      "outputs": [],
      "source": [
        "plt.figure(figsize=(8, 5))\n",
        "sns.scatterplot(x=car['year'],y=car['Price'])\n",
        "plt.title('Car Price vs year')\n",
        "plt.show()\n"
      ]
    },
    {
      "cell_type": "code",
      "execution_count": null,
      "id": "fc99ea0e",
      "metadata": {
        "colab": {
          "background_save": true
        },
        "id": "fc99ea0e"
      },
      "outputs": [],
      "source": [
        "plt.figure(figsize=(8, 5))\n",
        "sns.barplot(data=car, x='fuel_type', y='Price', estimator=np.mean)\n",
        "plt.title('Average Price by Fuel Type')\n",
        "plt.ylabel('Average Price')\n",
        "plt.xlabel('Fuel Type')\n",
        "plt.show()\n"
      ]
    },
    {
      "cell_type": "code",
      "execution_count": null,
      "id": "7c0259d8",
      "metadata": {
        "colab": {
          "background_save": true
        },
        "id": "7c0259d8"
      },
      "outputs": [],
      "source": [
        "plt.figure(figsize=(10, 5))\n",
        "sns.lineplot(data=car.groupby('year')['Price'].mean().reset_index(), x='year', y='Price')\n",
        "plt.title('Average Price by Year')\n",
        "plt.xlabel('Year')\n",
        "plt.ylabel('Average Price')\n",
        "plt.xticks(rotation=45)\n",
        "plt.show()\n"
      ]
    },
    {
      "cell_type": "code",
      "execution_count": null,
      "id": "5d99685d",
      "metadata": {
        "colab": {
          "background_save": true
        },
        "id": "5d99685d"
      },
      "outputs": [],
      "source": [
        "plt.figure(figsize=(10, 6))\n",
        "sns.scatterplot(data=car, x='kms_driven', y='Price', hue='fuel_type')\n",
        "plt.title('KMs Driven vs Price')\n",
        "plt.xlabel('KMs Driven')\n",
        "plt.ylabel('Selling Price')\n",
        "plt.show()\n"
      ]
    },
    {
      "cell_type": "markdown",
      "id": "973b3468",
      "metadata": {
        "id": "973b3468"
      },
      "source": [
        "## Model Preparation"
      ]
    },
    {
      "cell_type": "code",
      "execution_count": null,
      "id": "71d8abb5",
      "metadata": {
        "colab": {
          "background_save": true
        },
        "id": "71d8abb5"
      },
      "outputs": [],
      "source": [
        "X=car.drop(columns='Price')\n",
        "y=car['Price']"
      ]
    },
    {
      "cell_type": "markdown",
      "id": "ac6ebf75",
      "metadata": {
        "id": "ac6ebf75"
      },
      "source": [
        "### Model Training"
      ]
    },
    {
      "cell_type": "code",
      "execution_count": null,
      "id": "8ed15da1",
      "metadata": {
        "colab": {
          "background_save": true
        },
        "id": "8ed15da1"
      },
      "outputs": [],
      "source": [
        "X_train, X_test, y_train, y_test = train_test_split(\n",
        "    X, y, test_size=0.2, random_state=42\n",
        ")\n"
      ]
    },
    {
      "cell_type": "markdown",
      "id": "e8180d94",
      "metadata": {
        "id": "e8180d94"
      },
      "source": [
        "#### Encode + Train Linear Regression"
      ]
    },
    {
      "cell_type": "code",
      "execution_count": null,
      "id": "a2f63287",
      "metadata": {
        "colab": {
          "background_save": true
        },
        "id": "a2f63287"
      },
      "outputs": [],
      "source": [
        "num_cols = X.select_dtypes(include=np.number).columns.tolist()\n",
        "cat_cols = X.select_dtypes(exclude=np.number).columns.tolist()\n",
        "num_cols, cat_cols\n"
      ]
    },
    {
      "cell_type": "markdown",
      "id": "cc20ee49",
      "metadata": {
        "id": "cc20ee49"
      },
      "source": []
    },
    {
      "cell_type": "markdown",
      "id": "39ab6d77",
      "metadata": {
        "id": "39ab6d77"
      },
      "source": [
        "## Build Pipeline"
      ]
    },
    {
      "cell_type": "code",
      "execution_count": null,
      "id": "f94335b6",
      "metadata": {
        "colab": {
          "background_save": true
        },
        "id": "f94335b6"
      },
      "outputs": [],
      "source": [
        "preprocessor = ColumnTransformer(\n",
        "    transformers=[\n",
        "        ('num', StandardScaler(), num_cols),\n",
        "        ('cat', OneHotEncoder(handle_unknown='ignore'), cat_cols)\n",
        "    ]\n",
        ")\n",
        "\n",
        "model = Pipeline(steps=[\n",
        "    ('preprocessor', preprocessor),\n",
        "    ('regressor', LinearRegression())\n",
        "])\n",
        "\n",
        "model.fit(X_train, y_train)\n",
        "print('Model trained.')"
      ]
    },
    {
      "cell_type": "markdown",
      "id": "8b6b1685",
      "metadata": {
        "id": "8b6b1685"
      },
      "source": [
        "### Model Evalution"
      ]
    },
    {
      "cell_type": "code",
      "execution_count": null,
      "id": "42fcbafc",
      "metadata": {
        "colab": {
          "background_save": true
        },
        "id": "42fcbafc"
      },
      "outputs": [],
      "source": [
        "y_pred = model.predict(X_test)\n",
        "r2 = r2_score(y_test, y_pred)\n",
        "mae = mean_absolute_error(y_test, y_pred)\n",
        "mse = mean_squared_error(y_test, y_pred)\n",
        "rmse = np.sqrt(mse)\n",
        "\n",
        "print(\"Accuracy:\")\n",
        "print(f\"R² Score       : {r2:.4f}\")\n",
        "print(f\"MAE            : {mae:.2f}\")\n",
        "print(f\"MSE            : {mse:.2f}\")\n",
        "print(f\"RMSE           : {rmse:.2f}\")"
      ]
    },
    {
      "cell_type": "code",
      "execution_count": null,
      "id": "LYRr_LEa0dge",
      "metadata": {
        "colab": {
          "background_save": true
        },
        "id": "LYRr_LEa0dge"
      },
      "outputs": [],
      "source": [
        "metrics = ['R² Score', 'MAE', 'MSE', 'RMSE']\n",
        "values = [0.6424, 114032.35, 72813676137.85, 269840.09]\n",
        "plt.figure(figsize=(10,6))\n",
        "bars = plt.bar(metrics, values, color=['green', 'orange', 'red', 'blue'], alpha=0.8)\n",
        "for bar, val in zip(bars, values):\n",
        "    plt.text(bar.get_x() + bar.get_width()/2, val, f'{val:.2f}',\n",
        "             ha='center', va='bottom', fontsize=10, fontweight='bold')\n",
        "plt.title('Model Accuracy and Error Metrics Comparison', fontsize=14)\n",
        "plt.xlabel('Metrics', fontsize=12)\n",
        "plt.ylabel('Values (Log Scale)', fontsize=12)\n",
        "plt.grid(axis='y', linestyle='--', alpha=0.6)\n",
        "\n",
        "plt.show()"
      ]
    },
    {
      "cell_type": "code",
      "execution_count": null,
      "id": "jnDNWNV79e-K",
      "metadata": {
        "colab": {
          "background_save": true
        },
        "id": "jnDNWNV79e-K"
      },
      "outputs": [],
      "source": [
        "plt.figure(figsize=(10, 6))\n",
        "sns.scatterplot(x=y_test, y=y_pred, color='blue', alpha=0.6)\n",
        "plt.plot([y_test.min(), y_test.max()], [y_test.min(), y_test.max()],\n",
        "         color='red', linestyle='--', linewidth=2, label='Perfect Prediction Line')\n",
        "\n",
        "plt.title('Actual Price vs Predicted Price')\n",
        "plt.xlabel('Actual Price')\n",
        "plt.ylabel('Predicted Price')\n",
        "plt.legend()\n",
        "plt.show()"
      ]
    },
    {
      "cell_type": "markdown",
      "id": "020d51eb",
      "metadata": {
        "id": "020d51eb"
      },
      "source": [
        "## Gradio"
      ]
    },
    {
      "cell_type": "code",
      "execution_count": null,
      "id": "e91432bd",
      "metadata": {
        "colab": {
          "background_save": true
        },
        "id": "e91432bd"
      },
      "outputs": [],
      "source": [
        "def predict_price(year, kms_driven, fuel_type, company, name):\n",
        "    data = {\n",
        "        'year': [int(year)],\n",
        "        'kms_driven': [int(kms_driven)],\n",
        "        'fuel_type': [fuel_type],\n",
        "        'company': [company]\n",
        "    }\n",
        "    # Include name only if available in the training set\n",
        "    if 'name' in X.columns:\n",
        "        data['name'] = [name]\n",
        "    input_df = pd.DataFrame(data)\n",
        "    pred = model.predict(input_df)[0]\n",
        "    return f'Estimated Price: ₹ {int(pred):,}'\n",
        "\n",
        "# UI choices\n",
        "fuel_choices = sorted(car['fuel_type'].dropna().unique().tolist())\n",
        "company_choices = sorted(car['company'].dropna().unique().tolist())\n",
        "name_choices = []\n",
        "if 'name' in car.columns:\n",
        "    name_counts = car['name'].value_counts().head(50)\n",
        "    name_choices = name_counts.index.tolist()\n",
        "\n",
        "inputs = [\n",
        "    gr.Number(label='Year'),\n",
        "    gr.Number(label='Kms Driven'),\n",
        "    gr.Dropdown(choices=fuel_choices, label='Fuel Type'),\n",
        "    gr.Dropdown(choices=company_choices, label='Company'),\n",
        "    gr.Dropdown(choices=name_choices, label='Car Name') if len(name_choices) > 0 else gr.Textbox(label='Car Name (optional)', value='')\n",
        "]\n",
        "\n",
        "demo = gr.Interface(\n",
        "    fn=predict_price,\n",
        "    inputs=inputs,\n",
        "    outputs=gr.Textbox(label='Predicted Price')\n",
        ")\n",
        "\n",
        "#Uncomment to launch in notebook runtime\n",
        "demo.launch(debug=True)\n"
      ]
    }
  ],
  "metadata": {
    "colab": {
      "provenance": []
    },
    "kernelspec": {
      "display_name": "Python 3",
      "name": "python3"
    },
    "language_info": {
      "name": "python"
    }
  },
  "nbformat": 4,
  "nbformat_minor": 5
}